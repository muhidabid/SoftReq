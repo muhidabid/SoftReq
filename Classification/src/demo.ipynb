{
 "cells": [
  {
   "cell_type": "code",
   "execution_count": 1,
   "metadata": {},
   "outputs": [
    {
     "ename": "ModuleNotFoundError",
     "evalue": "No module named 'gensim'",
     "output_type": "error",
     "traceback": [
      "\u001b[1;31m---------------------------------------------------------------------------\u001b[0m",
      "\u001b[1;31mModuleNotFoundError\u001b[0m                       Traceback (most recent call last)",
      "\u001b[1;32md:\\muhid_laptop_backup_full\\Confirm data\\JUMBO\\FAST\\FYP\\Classification\\src\\demo.ipynb Cell 1'\u001b[0m in \u001b[0;36m<cell line: 1>\u001b[1;34m()\u001b[0m\n\u001b[1;32m----> <a href='vscode-notebook-cell:/d%3A/muhid_laptop_backup_full/Confirm%20data/JUMBO/FAST/FYP/Classification/src/demo.ipynb#ch0000000?line=0'>1</a>\u001b[0m \u001b[39mfrom\u001b[39;00m  \u001b[39mlda\u001b[39;00m \u001b[39mimport\u001b[39;00m \u001b[39m*\u001b[39m\n",
      "File \u001b[1;32md:\\muhid_laptop_backup_full\\Confirm data\\JUMBO\\FAST\\FYP\\Classification\\src\\lda.py:4\u001b[0m, in \u001b[0;36m<module>\u001b[1;34m\u001b[0m\n\u001b[0;32m      <a href='file:///d%3A/muhid_laptop_backup_full/Confirm%20data/JUMBO/FAST/FYP/Classification/src/lda.py?line=1'>2</a>\u001b[0m \u001b[39mfrom\u001b[39;00m \u001b[39mast\u001b[39;00m \u001b[39mimport\u001b[39;00m keyword\n\u001b[0;32m      <a href='file:///d%3A/muhid_laptop_backup_full/Confirm%20data/JUMBO/FAST/FYP/Classification/src/lda.py?line=2'>3</a>\u001b[0m \u001b[39mfrom\u001b[39;00m \u001b[39mpprint\u001b[39;00m \u001b[39mimport\u001b[39;00m pprint\n\u001b[1;32m----> <a href='file:///d%3A/muhid_laptop_backup_full/Confirm%20data/JUMBO/FAST/FYP/Classification/src/lda.py?line=3'>4</a>\u001b[0m \u001b[39mimport\u001b[39;00m \u001b[39mgensim\u001b[39;00m\u001b[39m.\u001b[39;00m\u001b[39mcorpora\u001b[39;00m \u001b[39mas\u001b[39;00m \u001b[39mcorpora\u001b[39;00m\n\u001b[0;32m      <a href='file:///d%3A/muhid_laptop_backup_full/Confirm%20data/JUMBO/FAST/FYP/Classification/src/lda.py?line=4'>5</a>\u001b[0m \u001b[39mfrom\u001b[39;00m \u001b[39mnltk\u001b[39;00m\u001b[39m.\u001b[39;00m\u001b[39mcorpus\u001b[39;00m \u001b[39mimport\u001b[39;00m stopwords\n\u001b[0;32m      <a href='file:///d%3A/muhid_laptop_backup_full/Confirm%20data/JUMBO/FAST/FYP/Classification/src/lda.py?line=5'>6</a>\u001b[0m \u001b[39mimport\u001b[39;00m \u001b[39mpandas\u001b[39;00m \u001b[39mas\u001b[39;00m \u001b[39mpd\u001b[39;00m\n",
      "\u001b[1;31mModuleNotFoundError\u001b[0m: No module named 'gensim'"
     ]
    }
   ],
   "source": [
    "from  lda import *"
   ]
  },
  {
   "cell_type": "code",
   "execution_count": 49,
   "metadata": {},
   "outputs": [
    {
     "name": "stdout",
     "output_type": "stream",
     "text": [
      "['system', 'shall', 'mdi', 'form', 'allows', 'viewing', 'graph', 'data', 'table']\n",
      "[(0, 1), (1, 1), (2, 1), (3, 1), (4, 1), (5, 1), (6, 1), (7, 1), (8, 1)]\n",
      "[(0,\n",
      "  '0.058*\"shall\" + 0.027*\"system\" + 0.015*\"allow\" + 0.013*\"player\" + '\n",
      "  '0.010*\"disputes\" + 0.009*\"must\" + 0.008*\"parts\" + 0.008*\"search\" + '\n",
      "  '0.007*\"game\" + 0.007*\"case\" + 0.007*\"list\" + 0.007*\"able\" + '\n",
      "  '0.007*\"defensive\" + 0.007*\"dispute\" + 0.006*\"available\" + 0.006*\"request\" + '\n",
      "  '0.006*\"players\" + 0.006*\"leads\" + 0.006*\"recycled\" + 0.006*\"display\" + '\n",
      "  '0.005*\"time\" + 0.005*\"provide\" + 0.005*\"status\" + 0.005*\"information\" + '\n",
      "  '0.005*\"functionality\"')]\n",
      "[(0,\n",
      "  '0.058*\"shall\" + 0.027*\"system\" + 0.015*\"allow\" + 0.013*\"player\" + '\n",
      "  '0.010*\"disputes\" + 0.009*\"must\" + 0.008*\"parts\" + 0.008*\"search\" + '\n",
      "  '0.007*\"game\" + 0.007*\"case\" + 0.007*\"list\" + 0.007*\"able\" + '\n",
      "  '0.007*\"defensive\" + 0.007*\"dispute\" + 0.006*\"available\" + 0.006*\"request\" + '\n",
      "  '0.006*\"players\" + 0.006*\"leads\" + 0.006*\"recycled\" + 0.006*\"display\" + '\n",
      "  '0.005*\"time\" + 0.005*\"provide\" + 0.005*\"status\" + 0.005*\"information\" + '\n",
      "  '0.005*\"functionality\"')]\n"
     ]
    }
   ],
   "source": [
    "\n",
    "train_model(\"../data/fr.txt\")\n"
   ]
  },
  {
   "cell_type": "code",
   "execution_count": 52,
   "metadata": {},
   "outputs": [
    {
     "name": "stdout",
     "output_type": "stream",
     "text": [
      "['system', 'shall', 'mdi', 'form', 'allows', 'viewing', 'graph', 'data', 'table']\n",
      "[(0, 1), (1, 1), (2, 1), (3, 1), (4, 1), (5, 1), (6, 1), (7, 1), (8, 1)]\n",
      "hi\n",
      "[(0,\n",
      "  '0.058*\"shall\" + 0.027*\"system\" + 0.015*\"allow\" + 0.013*\"player\" + '\n",
      "  '0.010*\"disputes\" + 0.009*\"must\" + 0.008*\"parts\" + 0.008*\"search\" + '\n",
      "  '0.007*\"case\" + 0.007*\"game\" + 0.007*\"list\" + 0.007*\"dispute\" + 0.007*\"able\" '\n",
      "  '+ 0.007*\"defensive\" + 0.006*\"available\" + 0.006*\"request\" + 0.006*\"display\" '\n",
      "  '+ 0.006*\"recycled\" + 0.006*\"players\" + 0.006*\"leads\" + 0.005*\"time\" + '\n",
      "  '0.005*\"provide\" + 0.005*\"functionality\" + 0.005*\"status\" + '\n",
      "  '0.005*\"offensive\"')]\n"
     ]
    }
   ],
   "source": []
  }
 ],
 "metadata": {
  "interpreter": {
   "hash": "3a9aa2ce87b0e750645ebcc17dff1ad56c8a07143c3b65d5362ac1892cd4e383"
  },
  "kernelspec": {
   "display_name": "Python 3.10.4 64-bit",
   "language": "python",
   "name": "python3"
  },
  "language_info": {
   "codemirror_mode": {
    "name": "ipython",
    "version": 3
   },
   "file_extension": ".py",
   "mimetype": "text/x-python",
   "name": "python",
   "nbconvert_exporter": "python",
   "pygments_lexer": "ipython3",
   "version": "3.10.4"
  },
  "orig_nbformat": 4
 },
 "nbformat": 4,
 "nbformat_minor": 2
}
