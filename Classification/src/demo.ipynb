{
 "cells": [
  {
   "cell_type": "code",
   "execution_count": 47,
   "metadata": {},
   "outputs": [],
   "source": [
    "from  lda import *"
   ]
  },
  {
   "cell_type": "code",
   "execution_count": 49,
   "metadata": {},
   "outputs": [
    {
     "name": "stdout",
     "output_type": "stream",
     "text": [
      "['system', 'shall', 'mdi', 'form', 'allows', 'viewing', 'graph', 'data', 'table']\n",
      "[(0, 1), (1, 1), (2, 1), (3, 1), (4, 1), (5, 1), (6, 1), (7, 1), (8, 1)]\n",
      "[(0,\n",
      "  '0.058*\"shall\" + 0.027*\"system\" + 0.015*\"allow\" + 0.013*\"player\" + '\n",
      "  '0.010*\"disputes\" + 0.009*\"must\" + 0.008*\"parts\" + 0.008*\"search\" + '\n",
      "  '0.007*\"game\" + 0.007*\"case\" + 0.007*\"list\" + 0.007*\"able\" + '\n",
      "  '0.007*\"defensive\" + 0.007*\"dispute\" + 0.006*\"available\" + 0.006*\"request\" + '\n",
      "  '0.006*\"players\" + 0.006*\"leads\" + 0.006*\"recycled\" + 0.006*\"display\" + '\n",
      "  '0.005*\"time\" + 0.005*\"provide\" + 0.005*\"status\" + 0.005*\"information\" + '\n",
      "  '0.005*\"functionality\"')]\n",
      "[(0,\n",
      "  '0.058*\"shall\" + 0.027*\"system\" + 0.015*\"allow\" + 0.013*\"player\" + '\n",
      "  '0.010*\"disputes\" + 0.009*\"must\" + 0.008*\"parts\" + 0.008*\"search\" + '\n",
      "  '0.007*\"game\" + 0.007*\"case\" + 0.007*\"list\" + 0.007*\"able\" + '\n",
      "  '0.007*\"defensive\" + 0.007*\"dispute\" + 0.006*\"available\" + 0.006*\"request\" + '\n",
      "  '0.006*\"players\" + 0.006*\"leads\" + 0.006*\"recycled\" + 0.006*\"display\" + '\n",
      "  '0.005*\"time\" + 0.005*\"provide\" + 0.005*\"status\" + 0.005*\"information\" + '\n",
      "  '0.005*\"functionality\"')]\n"
     ]
    }
   ],
   "source": [
    "\n",
    "train_model(\"../data/fr.txt\")\n"
   ]
  },
  {
   "cell_type": "code",
   "execution_count": 52,
   "metadata": {},
   "outputs": [
    {
     "name": "stdout",
     "output_type": "stream",
     "text": [
      "['system', 'shall', 'mdi', 'form', 'allows', 'viewing', 'graph', 'data', 'table']\n",
      "[(0, 1), (1, 1), (2, 1), (3, 1), (4, 1), (5, 1), (6, 1), (7, 1), (8, 1)]\n",
      "hi\n",
      "[(0,\n",
      "  '0.058*\"shall\" + 0.027*\"system\" + 0.015*\"allow\" + 0.013*\"player\" + '\n",
      "  '0.010*\"disputes\" + 0.009*\"must\" + 0.008*\"parts\" + 0.008*\"search\" + '\n",
      "  '0.007*\"case\" + 0.007*\"game\" + 0.007*\"list\" + 0.007*\"dispute\" + 0.007*\"able\" '\n",
      "  '+ 0.007*\"defensive\" + 0.006*\"available\" + 0.006*\"request\" + 0.006*\"display\" '\n",
      "  '+ 0.006*\"recycled\" + 0.006*\"players\" + 0.006*\"leads\" + 0.005*\"time\" + '\n",
      "  '0.005*\"provide\" + 0.005*\"functionality\" + 0.005*\"status\" + '\n",
      "  '0.005*\"offensive\"')]\n"
     ]
    }
   ],
   "source": []
  }
 ],
 "metadata": {
  "interpreter": {
   "hash": "48936237514aeac3e9f207d4099481328f8138a9d7acf72205878c5bfce222b7"
  },
  "kernelspec": {
   "display_name": "Python 3.9.12 64-bit (windows store)",
   "language": "python",
   "name": "python3"
  },
  "language_info": {
   "codemirror_mode": {
    "name": "ipython",
    "version": 3
   },
   "file_extension": ".py",
   "mimetype": "text/x-python",
   "name": "python",
   "nbconvert_exporter": "python",
   "pygments_lexer": "ipython3",
   "version": "3.9.12"
  },
  "orig_nbformat": 4
 },
 "nbformat": 4,
 "nbformat_minor": 2
}
